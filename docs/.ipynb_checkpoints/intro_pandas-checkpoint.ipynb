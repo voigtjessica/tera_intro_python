{
 "cells": [
  {
   "cell_type": "markdown",
   "metadata": {},
   "source": [
    "# Introdução ao Pandas\n",
    "\n",
    "Agora vamos colocar a mão na massa!\n",
    "\n",
    "Ao final dessa aula vamos conseguir realizar as três primeiras etapas da análise de dados com DataFrames e teremos instrumentos suficientes para responder diversas perguntas que podemos fazer aos nossos dados (4a. etapa)\n",
    "\n",
    "## Algumas orientações:\n",
    "\n",
    "1. A partir de agora, as anotações deverão ser apenas no seu script, utilizando os # para fazer comentários:"
   ]
  },
  {
   "cell_type": "code",
   "execution_count": null,
   "metadata": {},
   "outputs": [],
   "source": [
    "#Isso é um comentário"
   ]
  },
  {
   "cell_type": "markdown",
   "metadata": {},
   "source": [
    "2. Copiem o código das células (espaços em cinza) no seu notebook\n",
    "   Pelo menos nesta aula, não se preocupem em escrever o código e procurem entender o que cada função faz. Isso é essencial    para entender a lógica da linguagem e não perder tempo com typos; <br>\n",
    "\n",
    "3. Não se preocupem muito com a sintaxe;<br>\n",
    "\n",
    "4. Usem o seu notebook para análises futuras."
   ]
  },
  {
   "cell_type": "markdown",
   "metadata": {},
   "source": [
    "## 0. Lembrando: objetos e listas\n",
    "\n",
    "Podemos atribuir a um objeto o resultado de nossas operações matemáticas, strings, listas ou, como veremos mais pra frente, o nosso dataframe. O objeto ficará armazenado na memória do jupyter e poderá ser acessado e modificado em operações futuras.\n",
    "\n",
    "Para atribuir uma operação a um objeto basta utilizar o sinal de ="
   ]
  },
  {
   "cell_type": "code",
   "execution_count": null,
   "metadata": {},
   "outputs": [],
   "source": [
    "# Exemplo:\n",
    "\n",
    "obj = 2*4\n",
    "\n",
    "lista = [0, 1, 1, 2, 3, 5, 8, 13]\n",
    "\n",
    "lista_str = [\"Jessica\", \"Alex\"]\n",
    "\n",
    "lista_de_objs = [\"Jessica\", 15]"
   ]
  },
  {
   "cell_type": "markdown",
   "metadata": {},
   "source": [
    "*É possível traduzir esta operação com \"obj RECEBE 2*4*, *lista recebe...* e assim em diante"
   ]
  },
  {
   "cell_type": "code",
   "execution_count": null,
   "metadata": {},
   "outputs": [],
   "source": [
    "#Consultando:\n",
    "\n",
    "obj"
   ]
  },
  {
   "cell_type": "markdown",
   "metadata": {},
   "source": [
    "E realizar operações com ele"
   ]
  },
  {
   "cell_type": "code",
   "execution_count": null,
   "metadata": {},
   "outputs": [],
   "source": [
    "obj * 10"
   ]
  },
  {
   "cell_type": "markdown",
   "metadata": {},
   "source": [
    "E realizar operações com elementos da lista"
   ]
  },
  {
   "cell_type": "code",
   "execution_count": null,
   "metadata": {},
   "outputs": [],
   "source": [
    "#Realizando operações com elementos da lista:\n",
    "\n",
    "lista2 = []\n",
    "\n",
    "for i in lista:\n",
    "    lista2.append(i*10)\n",
    "\n",
    "lista2"
   ]
  },
  {
   "cell_type": "markdown",
   "metadata": {},
   "source": [
    "## Bibliotecas:\n",
    "\n",
    "Bibliotecas são conjuntos de verbos que auxiliam a linguagem que estamos utilizando. São como \"pacotes de expansão\", permitindo que mais coisas sejam feitas dentro de uma determinada linguagem.\n",
    "\n",
    "Uma biblioteca muito utilizada na ciência de dados em python é a **Pandas** .\n",
    "\n",
    "Quando Python é instalado utilizando Anaconda, as bibliotecas *Pandas* e *NumPy* são instaladas automaticamente. Caso contrário, é possível instalar *Pandas* via pip no CMD com o comando `pip install pandas`.\n",
    "\n",
    "Depois de instalado, a biblioteca deve ser carregada no início de cada script:\n",
    "\n"
   ]
  },
  {
   "cell_type": "code",
   "execution_count": 2,
   "metadata": {},
   "outputs": [],
   "source": [
    "#importando a biblioteca pandas e dando um \"apelido\" para ela.\n",
    "\n",
    "import pandas as pd\n",
    "\n",
    "#pd é a nomenclatura padrão."
   ]
  },
  {
   "cell_type": "markdown",
   "metadata": {},
   "source": [
    "Pronto, só isso =)\n",
    "\n",
    "As funções (verbos) costumam ser precedidos da biblioteca ou do objeto que ele irá trabalhar. Veremos exemplos a seguir.\n",
    "\n",
    "## 01. Checklist dos B.O.s\n",
    "\n",
    "\n",
    "Como falamos nos slides, existem alguns B.O.s que são figurinhas marcadas na análise de dados:\n",
    "\n",
    "* Separador\n",
    "* Encoding\n",
    "* Duplicata\n",
    "* Missings\n",
    "\n",
    "Resolver esses problemas é uma etapa importante para a normalização do seu Dataframe e impede erros de interpretação futuros. Boa parte dos problemas acontecem no momento da importação!\n",
    "\n",
    "### Importando\n",
    "\n",
    "Vamos começar importando um banco de dados com todos os países do mundo e algumas informações básicas. Trata-se de um arquivo CSV, separado por ponto e vírgula e com encoding 'utf-8' \n"
   ]
  },
  {
   "cell_type": "code",
   "execution_count": 3,
   "metadata": {},
   "outputs": [],
   "source": [
    "data_countries = pd.read_csv(\"data_countries.csv\", encoding = 'utf-8', sep=\";\")"
   ]
  },
  {
   "cell_type": "markdown",
   "metadata": {},
   "source": [
    "Em python é assim: se não aconteceu nada, é porque deu certo!\n",
    "\n",
    "As informações de encoding e separador normalmente estão descritas na fonte do seu banco de dados (no codebook, no local de download, etc). A função `pd.read_csv()` possui como padrão o separador \",\" e encoding = none e por isso temos que avisar à função que o encoding e o separador são diferentes do esperado. Para saber todos os parâmetros padrões da função, use o comando `help(pd.read_csv)` \n",
    "\n",
    "Vamos primeiro olhar algumas características do banco, como número de linhas e colunas com o `shape`:"
   ]
  },
  {
   "cell_type": "markdown",
   "metadata": {},
   "source": [
    "Agora vamos olhar se a nossa importação deu certo com o comando `head()`, que mostra as 5 primeiras linhas do nosso DataFrame:"
   ]
  },
  {
   "cell_type": "code",
   "execution_count": null,
   "metadata": {},
   "outputs": [],
   "source": [
    "#Verificando as cinco primeiras colunas\n",
    "data_countries.head()"
   ]
  },
  {
   "cell_type": "markdown",
   "metadata": {},
   "source": [
    "A nossa importação deu certo: as linhas e colunas parecem estar \"no lugar\". Mas esse banco tem um problema: **vocês conseguiram identificar?**\n",
    "\n",
    "<br><br> Pois é, vamos dar uma olhadinha na quantidade de linhas e colunas que o nosso arquivo importado possui:"
   ]
  },
  {
   "cell_type": "code",
   "execution_count": null,
   "metadata": {},
   "outputs": [],
   "source": [
    "#Olhando qtde de linhas e colunas do meu df\n",
    "data_countries.shape"
   ]
  },
  {
   "cell_type": "markdown",
   "metadata": {},
   "source": [
    "Agora, vamos resolver o problema das duplicatas, atribuindo ao nosso DataFrame original o resultado da operação `drop_duplicates()`:"
   ]
  },
  {
   "cell_type": "code",
   "execution_count": 4,
   "metadata": {},
   "outputs": [],
   "source": [
    "#Removendo duplicatas:\n",
    "data_countries = data_countries.drop_duplicates()"
   ]
  },
  {
   "cell_type": "markdown",
   "metadata": {},
   "source": [
    "E vamos olhar novamente o número de linhas e colunas para ver se algo mudou no nosso arquivo:"
   ]
  },
  {
   "cell_type": "code",
   "execution_count": null,
   "metadata": {},
   "outputs": [],
   "source": [
    "#Olhando qtde de linhas e colunas do meu df\n",
    "data_countries.shape"
   ]
  },
  {
   "cell_type": "markdown",
   "metadata": {},
   "source": [
    "Já cairam dois, viram?\n",
    "E, por fim, vamos descobrir quantos *missings* temos em cada coluna somando todos com duas operações seguidas: `is.null()`e `sum()`"
   ]
  },
  {
   "cell_type": "code",
   "execution_count": null,
   "metadata": {},
   "outputs": [],
   "source": [
    "# Contando a quantidade de missing values por coluna:\n",
    "data_countries.isnull().sum()"
   ]
  },
  {
   "cell_type": "markdown",
   "metadata": {},
   "source": [
    "Que bom, nosso banco não tem *missings*.\n",
    "\n",
    "Por fim, vamos ver os tipos de colunas existentes no nosso banco:"
   ]
  },
  {
   "cell_type": "code",
   "execution_count": null,
   "metadata": {},
   "outputs": [],
   "source": [
    "#Verificando os tipos de colunas:\n",
    "data_countries.dtypes"
   ]
  },
  {
   "cell_type": "markdown",
   "metadata": {},
   "source": [
    "Não foi possível identificar os tipos de coluna. *Object* costuma indicar que existem \"coisas\" diferentes em uma mesma variável, como um número e uma string . Neste caso, eu sei que tudo é texto. Como veremos, podemos sobrescrever as variáveis de um dataframe e transforma-las em um outro tipo.\n",
    "<br><br>\n",
    "Agora vamos importar um segundo arquivo da FIFA com todos os jogadores convocados para a copa de 2018. \n",
    "É um arquivo do Excel (.XLSX):"
   ]
  },
  {
   "cell_type": "code",
   "execution_count": 5,
   "metadata": {},
   "outputs": [],
   "source": [
    "fifa = pd.read_excel(\"fifa2018.xlsx\")"
   ]
  },
  {
   "cell_type": "markdown",
   "metadata": {},
   "source": [
    "Vamos executar as mesmas etapas que fizemos com o banco anterior. Primeiro vamos ver se importou certinho:"
   ]
  },
  {
   "cell_type": "code",
   "execution_count": null,
   "metadata": {},
   "outputs": [],
   "source": [
    "#Agora, o head\n",
    "fifa.head()"
   ]
  },
  {
   "cell_type": "code",
   "execution_count": null,
   "metadata": {},
   "outputs": [],
   "source": [
    "#Agora, o shape:\n",
    "fifa.shape"
   ]
  },
  {
   "cell_type": "markdown",
   "metadata": {},
   "source": [
    "Não sabemos se esse arquivo tem duplicatas e não vamos olhar as 736 linhas. Neste caso, vamos dar um `drop_duplicates()` preventivo:"
   ]
  },
  {
   "cell_type": "code",
   "execution_count": 6,
   "metadata": {},
   "outputs": [
    {
     "data": {
      "text/plain": [
       "(736, 12)"
      ]
     },
     "execution_count": 6,
     "metadata": {},
     "output_type": "execute_result"
    }
   ],
   "source": [
    "#Removendo duplicatas:\n",
    "fifa = fifa.drop_duplicates()\n",
    "fifa.shape"
   ]
  },
  {
   "cell_type": "code",
   "execution_count": null,
   "metadata": {},
   "outputs": [],
   "source": [
    "Não tinham duplicatas =)"
   ]
  },
  {
   "cell_type": "code",
   "execution_count": null,
   "metadata": {},
   "outputs": [],
   "source": [
    "#Verificando os tipos de colunas:\n",
    "fifa.dtypes"
   ]
  },
  {
   "cell_type": "markdown",
   "metadata": {},
   "source": [
    "*Float* e *Interger* são duas categorias numéricas em programação e variam quanto a sua precisão. Como vamos trabalhar com bancos simples, não existe diferença significativa na precisão dos números. Essas categorias são mais importantes para trabalhos científicos ou análises mais complexas.\n",
    "\n",
    "Saber os tipos de colunas é importante para evitar erros na importação de cadastros numéricos, como CPFs."
   ]
  },
  {
   "cell_type": "code",
   "execution_count": 7,
   "metadata": {},
   "outputs": [
    {
     "data": {
      "text/plain": [
       "number                 0\n",
       "fifa_display_name      0\n",
       "last_name              0\n",
       "first_name             0\n",
       "shirt_name             0\n",
       "day_of_birth           0\n",
       "position               0\n",
       "club                   0\n",
       "height                 0\n",
       "caps                   4\n",
       "goals                290\n",
       "team                   0\n",
       "dtype: int64"
      ]
     },
     "execution_count": 7,
     "metadata": {},
     "output_type": "execute_result"
    }
   ],
   "source": [
    "#Verificando soma dos missings dentro de nosso dataframe:\n",
    "fifa.isnull().sum()"
   ]
  },
  {
   "cell_type": "markdown",
   "metadata": {},
   "source": [
    "### Substituindo os valores nulos de uma variável:\n",
    "\n",
    "Em alguns casos, nós queremos substituir os *missings* do nosso banco porque eles significam alguma coisa. No caso, a ausência de registros em goals e caps significa que os jogadores não jogaram nenhum jogo ou não fizeram nenhum gol com a camisa da seleção. <br><br> Para os cálculos estatísticos na sessão seguinte, é importante que esses registros sejam contatos. \n",
    "\n",
    "Agora vamos substituir aqueles *missings* encontrados no banco fifa por 0 com o `fillna()`:"
   ]
  },
  {
   "cell_type": "code",
   "execution_count": 8,
   "metadata": {},
   "outputs": [
    {
     "data": {
      "text/plain": [
       "number               0\n",
       "fifa_display_name    0\n",
       "last_name            0\n",
       "first_name           0\n",
       "shirt_name           0\n",
       "day_of_birth         0\n",
       "position             0\n",
       "club                 0\n",
       "height               0\n",
       "caps                 0\n",
       "goals                0\n",
       "team                 0\n",
       "dtype: int64"
      ]
     },
     "execution_count": 8,
     "metadata": {},
     "output_type": "execute_result"
    }
   ],
   "source": [
    "#Sobrescrevendo NAs de uma coluna:\n",
    "fifa.goals = fifa.goals.fillna(0)\n",
    "fifa.caps = fifa.caps.fillna(0)\n",
    "\n",
    "#Consultando soma dos NAs\n",
    "fifa.isnull().sum()"
   ]
  },
  {
   "cell_type": "markdown",
   "metadata": {},
   "source": [
    "**Pergunta:** E se os *missings* estivessem em uma variável tipo *string*? Como eu poderia substitui-los?"
   ]
  },
  {
   "cell_type": "markdown",
   "metadata": {},
   "source": [
    "## 02. Análises descritivas do banco\n",
    "\n",
    "Nós já fizemos algumas descrições iniciais com o `head` e o `dtypes`, agora vamos nos aprofundar mais na pergunta *O que que tem nesse Dataframe?*\n",
    "\n",
    "Sabemos que o dataframe Fifa contém informações sobre os jogadores convocados para copa do mundo de 2018. Vamos olhar uma descrição mais detalhada dos nossos dados com o `describe`:"
   ]
  },
  {
   "cell_type": "code",
   "execution_count": null,
   "metadata": {},
   "outputs": [],
   "source": [
    "#Breve descrição estatística:\n",
    "\n",
    "fifa.describe()"
   ]
  },
  {
   "cell_type": "markdown",
   "metadata": {},
   "source": [
    "Se eu quisesse apenas somar os valores de uma coluna, digamos, para saber quantos gols ao todo foram feitos por todos os jogadores até o momento da copa?"
   ]
  },
  {
   "cell_type": "code",
   "execution_count": null,
   "metadata": {},
   "outputs": [],
   "source": [
    "#somando itens de uma coluna:\n",
    "fifa.goals.sum()"
   ]
  },
  {
   "cell_type": "markdown",
   "metadata": {},
   "source": [
    "E a média de gols por jogador?"
   ]
  },
  {
   "cell_type": "code",
   "execution_count": null,
   "metadata": {},
   "outputs": [],
   "source": [
    "#média dos valores de uma coluna\n",
    "fifa.goals.median()"
   ]
  },
  {
   "cell_type": "markdown",
   "metadata": {},
   "source": [
    "E qual foi o maior número de jogos jogados pela seleção (caps) de um jogador?"
   ]
  },
  {
   "cell_type": "code",
   "execution_count": null,
   "metadata": {},
   "outputs": [],
   "source": [
    "#media dos valores de uma coluna\n",
    "fifa.caps.max()"
   ]
  },
  {
   "cell_type": "markdown",
   "metadata": {},
   "source": [
    "**Importante** O python \n",
    "\n",
    "\n",
    "Agora eu gostaria de saber todas as seleções classificadas para a copa do mundo de 2018 (em outras palavras: todos os valores únicos da coluna \"Team\"):"
   ]
  },
  {
   "cell_type": "code",
   "execution_count": null,
   "metadata": {},
   "outputs": [],
   "source": [
    "#Acessando os valores únicos de uma variável:\n",
    "pd.unique(fifa.team)"
   ]
  },
  {
   "cell_type": "markdown",
   "metadata": {},
   "source": [
    "E podemos atribuir esses valores a um objeto:"
   ]
  },
  {
   "cell_type": "code",
   "execution_count": null,
   "metadata": {},
   "outputs": [],
   "source": [
    "#Atribuindo os valores únicos de uma coluna a um objeto\n",
    "paises = pd.unique(fifa.team)\n",
    "\n",
    "paises"
   ]
  },
  {
   "cell_type": "markdown",
   "metadata": {},
   "source": [
    "E se eu quisesse que esse array virasse parte de um dataframe chamado `paises`, dentro de uma coluna chamada `pais` ?"
   ]
  },
  {
   "cell_type": "code",
   "execution_count": null,
   "metadata": {},
   "outputs": [],
   "source": [
    "#Criando um dataframe com uma coluna chamada 'pais'\n",
    "paises = pd.DataFrame({'pais': pd.unique(fifa.team)})\n",
    "\n",
    "paises.head()"
   ]
  },
  {
   "cell_type": "markdown",
   "metadata": {},
   "source": [
    "Por fim, eu gostaria de fazer uma *query* e descobrir quais foram os jogadores da seleção brasileira na copa de 2018. Para isso, selecionarei as linhas cujo team == 'Brazil' <br><br> As querys funcionam bem quando você sabe o valor que quer buscar"
   ]
  },
  {
   "cell_type": "code",
   "execution_count": null,
   "metadata": {},
   "outputs": [],
   "source": [
    "# Realizando uma query: coluna igual a um determinado valor   \n",
    "fifa.query('team == \"Brazil\"')"
   ]
  },
  {
   "cell_type": "markdown",
   "metadata": {},
   "source": [
    "Agora, vocês lembram do jogador que jogou 158 jogos pela sua seleção? Vamos descobrir quem é esse cara. Uma forma é realizando uma outra query:"
   ]
  },
  {
   "cell_type": "code",
   "execution_count": null,
   "metadata": {},
   "outputs": [],
   "source": [
    "fifa.query('caps == 158')"
   ]
  },
  {
   "cell_type": "markdown",
   "metadata": {},
   "source": [
    "Mas se nós não soubessemos ainda o valor máximo? Podemos mandar \"imprimir\" uma linha dizendo *\"Imprima o banco fifa onde fifa.caps seja exatamente igual ao fifa.caps.max()\"*"
   ]
  },
  {
   "cell_type": "code",
   "execution_count": null,
   "metadata": {},
   "outputs": [],
   "source": [
    "# Localize no banco Fifa onde fifa capps é exatamente igual ao máximo valor de fifa caps\n",
    "\n",
    "fifa.loc[fifa.caps == fifa.caps.max()]"
   ]
  },
  {
   "cell_type": "markdown",
   "metadata": {},
   "source": [
    "## 03. Processamento de dados\n",
    "\n",
    "Nós também já fizemos algum processamento no banco fifa quando substituimos os missings por zero e quando nós removemos as duplicatas do banco data_countries, mas agora o processamento é pra valer :)\n",
    "\n",
    "As vezes, precisamos não apenas consultar mas também modificar nossos dados para análise ou construção de um novo dataframe."
   ]
  },
  {
   "cell_type": "markdown",
   "metadata": {},
   "source": [
    "### Criando novas variáveis\n",
    "\n",
    "Agora eu gostaria de criar uma nova variável no meu banco fifa, para afirmar que o esporte praticado por todos aqueles atletas é \"futebol\"\n"
   ]
  },
  {
   "cell_type": "code",
   "execution_count": null,
   "metadata": {},
   "outputs": [],
   "source": [
    "#Criando uma nova variável chamada esporte\n",
    "\n",
    "fifa['esporte'] = \"Futebol\""
   ]
  },
  {
   "cell_type": "markdown",
   "metadata": {},
   "source": [
    "Ao atribuir o valor \"Futebol\" para o objeto `fifa['esporte']`, já estamos automaticamente criando a nova coluna no nosso dataframe.\n",
    "\n",
    "*OBS: A outra sintaxe `fifa.esporte` não funciona para criação de novas colunas"
   ]
  },
  {
   "cell_type": "code",
   "execution_count": null,
   "metadata": {},
   "outputs": [],
   "source": [
    "fifa.head()"
   ]
  },
  {
   "cell_type": "markdown",
   "metadata": {},
   "source": [
    "Agora, digamos que vocês estão elaborando as estatísticas dos jogadores antes da copa. Com essas informações da Fifa, seria interessante saber qual é a média de gols por jogador com a camisa da sua seleção. Para isso vamos criar uma nova coluna que divide o número de gols (goals) pelo número de jogos pela seleção (caps)."
   ]
  },
  {
   "cell_type": "code",
   "execution_count": 9,
   "metadata": {},
   "outputs": [
    {
     "data": {
      "text/html": [
       "<div>\n",
       "<style scoped>\n",
       "    .dataframe tbody tr th:only-of-type {\n",
       "        vertical-align: middle;\n",
       "    }\n",
       "\n",
       "    .dataframe tbody tr th {\n",
       "        vertical-align: top;\n",
       "    }\n",
       "\n",
       "    .dataframe thead th {\n",
       "        text-align: right;\n",
       "    }\n",
       "</style>\n",
       "<table border=\"1\" class=\"dataframe\">\n",
       "  <thead>\n",
       "    <tr style=\"text-align: right;\">\n",
       "      <th></th>\n",
       "      <th>number</th>\n",
       "      <th>fifa_display_name</th>\n",
       "      <th>last_name</th>\n",
       "      <th>first_name</th>\n",
       "      <th>shirt_name</th>\n",
       "      <th>day_of_birth</th>\n",
       "      <th>position</th>\n",
       "      <th>club</th>\n",
       "      <th>height</th>\n",
       "      <th>caps</th>\n",
       "      <th>goals</th>\n",
       "      <th>team</th>\n",
       "      <th>media_gols</th>\n",
       "    </tr>\n",
       "  </thead>\n",
       "  <tbody>\n",
       "    <tr>\n",
       "      <th>0</th>\n",
       "      <td>1</td>\n",
       "      <td>Nahuel GUZMAN</td>\n",
       "      <td>GUZMÁN</td>\n",
       "      <td>Nahuel Ignacio</td>\n",
       "      <td>GUZMÁN</td>\n",
       "      <td>10.02.1986</td>\n",
       "      <td>GK</td>\n",
       "      <td>Tigres (MEX)</td>\n",
       "      <td>192</td>\n",
       "      <td>6.0</td>\n",
       "      <td>0.0</td>\n",
       "      <td>Argentina</td>\n",
       "      <td>0.000000</td>\n",
       "    </tr>\n",
       "    <tr>\n",
       "      <th>1</th>\n",
       "      <td>2</td>\n",
       "      <td>Gabriel MERCADO</td>\n",
       "      <td>MERCADO</td>\n",
       "      <td>Gabriel Ivan</td>\n",
       "      <td>MERCADO</td>\n",
       "      <td>18.03.1987</td>\n",
       "      <td>DF</td>\n",
       "      <td>Sevilla FC (ESP)</td>\n",
       "      <td>181</td>\n",
       "      <td>21.0</td>\n",
       "      <td>3.0</td>\n",
       "      <td>Argentina</td>\n",
       "      <td>0.142857</td>\n",
       "    </tr>\n",
       "    <tr>\n",
       "      <th>2</th>\n",
       "      <td>3</td>\n",
       "      <td>Nicolas TAGLIAFICO</td>\n",
       "      <td>TAGLIAFICO</td>\n",
       "      <td>Nicolás Alejandro</td>\n",
       "      <td>TAGLIAFICO</td>\n",
       "      <td>31.08.1992</td>\n",
       "      <td>DF</td>\n",
       "      <td>Ajax (NED)</td>\n",
       "      <td>169</td>\n",
       "      <td>6.0</td>\n",
       "      <td>0.0</td>\n",
       "      <td>Argentina</td>\n",
       "      <td>0.000000</td>\n",
       "    </tr>\n",
       "    <tr>\n",
       "      <th>3</th>\n",
       "      <td>4</td>\n",
       "      <td>Cristian ANSALDI</td>\n",
       "      <td>ANSALDI</td>\n",
       "      <td>Cristian Daniel</td>\n",
       "      <td>ANSALDI</td>\n",
       "      <td>20.09.1986</td>\n",
       "      <td>DF</td>\n",
       "      <td>Torino (ITA)</td>\n",
       "      <td>181</td>\n",
       "      <td>5.0</td>\n",
       "      <td>1.0</td>\n",
       "      <td>Argentina</td>\n",
       "      <td>0.200000</td>\n",
       "    </tr>\n",
       "    <tr>\n",
       "      <th>4</th>\n",
       "      <td>5</td>\n",
       "      <td>Lucas BIGLIA</td>\n",
       "      <td>BIGLIA</td>\n",
       "      <td>Lucas Rodrigo</td>\n",
       "      <td>BIGLIA</td>\n",
       "      <td>30.01.1986</td>\n",
       "      <td>MF</td>\n",
       "      <td>AC Milan (ITA)</td>\n",
       "      <td>175</td>\n",
       "      <td>58.0</td>\n",
       "      <td>1.0</td>\n",
       "      <td>Argentina</td>\n",
       "      <td>0.017241</td>\n",
       "    </tr>\n",
       "  </tbody>\n",
       "</table>\n",
       "</div>"
      ],
      "text/plain": [
       "   number   fifa_display_name   last_name         first_name  shirt_name  \\\n",
       "0       1       Nahuel GUZMAN      GUZMÁN     Nahuel Ignacio      GUZMÁN   \n",
       "1       2     Gabriel MERCADO     MERCADO       Gabriel Ivan     MERCADO   \n",
       "2       3  Nicolas TAGLIAFICO  TAGLIAFICO  Nicolás Alejandro  TAGLIAFICO   \n",
       "3       4    Cristian ANSALDI     ANSALDI    Cristian Daniel     ANSALDI   \n",
       "4       5        Lucas BIGLIA      BIGLIA      Lucas Rodrigo      BIGLIA   \n",
       "\n",
       "  day_of_birth position              club  height  caps  goals       team  \\\n",
       "0   10.02.1986       GK      Tigres (MEX)     192   6.0    0.0  Argentina   \n",
       "1   18.03.1987       DF  Sevilla FC (ESP)     181  21.0    3.0  Argentina   \n",
       "2   31.08.1992       DF        Ajax (NED)     169   6.0    0.0  Argentina   \n",
       "3   20.09.1986       DF      Torino (ITA)     181   5.0    1.0  Argentina   \n",
       "4   30.01.1986       MF    AC Milan (ITA)     175  58.0    1.0  Argentina   \n",
       "\n",
       "   media_gols  \n",
       "0    0.000000  \n",
       "1    0.142857  \n",
       "2    0.000000  \n",
       "3    0.200000  \n",
       "4    0.017241  "
      ]
     },
     "execution_count": 9,
     "metadata": {},
     "output_type": "execute_result"
    }
   ],
   "source": [
    "#Criando uma variável\n",
    "fifa['media_gols'] = fifa.goals/fifa.caps\n",
    "fifa.head()"
   ]
  },
  {
   "cell_type": "markdown",
   "metadata": {},
   "source": [
    "E se quisessemos diminuir o número de casas decimais na nossa nova variável?"
   ]
  },
  {
   "cell_type": "code",
   "execution_count": 10,
   "metadata": {},
   "outputs": [
    {
     "data": {
      "text/html": [
       "<div>\n",
       "<style scoped>\n",
       "    .dataframe tbody tr th:only-of-type {\n",
       "        vertical-align: middle;\n",
       "    }\n",
       "\n",
       "    .dataframe tbody tr th {\n",
       "        vertical-align: top;\n",
       "    }\n",
       "\n",
       "    .dataframe thead th {\n",
       "        text-align: right;\n",
       "    }\n",
       "</style>\n",
       "<table border=\"1\" class=\"dataframe\">\n",
       "  <thead>\n",
       "    <tr style=\"text-align: right;\">\n",
       "      <th></th>\n",
       "      <th>number</th>\n",
       "      <th>fifa_display_name</th>\n",
       "      <th>last_name</th>\n",
       "      <th>first_name</th>\n",
       "      <th>shirt_name</th>\n",
       "      <th>day_of_birth</th>\n",
       "      <th>position</th>\n",
       "      <th>club</th>\n",
       "      <th>height</th>\n",
       "      <th>caps</th>\n",
       "      <th>goals</th>\n",
       "      <th>team</th>\n",
       "      <th>media_gols</th>\n",
       "    </tr>\n",
       "  </thead>\n",
       "  <tbody>\n",
       "    <tr>\n",
       "      <th>0</th>\n",
       "      <td>1</td>\n",
       "      <td>Nahuel GUZMAN</td>\n",
       "      <td>GUZMÁN</td>\n",
       "      <td>Nahuel Ignacio</td>\n",
       "      <td>GUZMÁN</td>\n",
       "      <td>10.02.1986</td>\n",
       "      <td>GK</td>\n",
       "      <td>Tigres (MEX)</td>\n",
       "      <td>192</td>\n",
       "      <td>6.0</td>\n",
       "      <td>0.0</td>\n",
       "      <td>Argentina</td>\n",
       "      <td>0.00</td>\n",
       "    </tr>\n",
       "    <tr>\n",
       "      <th>1</th>\n",
       "      <td>2</td>\n",
       "      <td>Gabriel MERCADO</td>\n",
       "      <td>MERCADO</td>\n",
       "      <td>Gabriel Ivan</td>\n",
       "      <td>MERCADO</td>\n",
       "      <td>18.03.1987</td>\n",
       "      <td>DF</td>\n",
       "      <td>Sevilla FC (ESP)</td>\n",
       "      <td>181</td>\n",
       "      <td>21.0</td>\n",
       "      <td>3.0</td>\n",
       "      <td>Argentina</td>\n",
       "      <td>0.14</td>\n",
       "    </tr>\n",
       "    <tr>\n",
       "      <th>2</th>\n",
       "      <td>3</td>\n",
       "      <td>Nicolas TAGLIAFICO</td>\n",
       "      <td>TAGLIAFICO</td>\n",
       "      <td>Nicolás Alejandro</td>\n",
       "      <td>TAGLIAFICO</td>\n",
       "      <td>31.08.1992</td>\n",
       "      <td>DF</td>\n",
       "      <td>Ajax (NED)</td>\n",
       "      <td>169</td>\n",
       "      <td>6.0</td>\n",
       "      <td>0.0</td>\n",
       "      <td>Argentina</td>\n",
       "      <td>0.00</td>\n",
       "    </tr>\n",
       "    <tr>\n",
       "      <th>3</th>\n",
       "      <td>4</td>\n",
       "      <td>Cristian ANSALDI</td>\n",
       "      <td>ANSALDI</td>\n",
       "      <td>Cristian Daniel</td>\n",
       "      <td>ANSALDI</td>\n",
       "      <td>20.09.1986</td>\n",
       "      <td>DF</td>\n",
       "      <td>Torino (ITA)</td>\n",
       "      <td>181</td>\n",
       "      <td>5.0</td>\n",
       "      <td>1.0</td>\n",
       "      <td>Argentina</td>\n",
       "      <td>0.20</td>\n",
       "    </tr>\n",
       "    <tr>\n",
       "      <th>4</th>\n",
       "      <td>5</td>\n",
       "      <td>Lucas BIGLIA</td>\n",
       "      <td>BIGLIA</td>\n",
       "      <td>Lucas Rodrigo</td>\n",
       "      <td>BIGLIA</td>\n",
       "      <td>30.01.1986</td>\n",
       "      <td>MF</td>\n",
       "      <td>AC Milan (ITA)</td>\n",
       "      <td>175</td>\n",
       "      <td>58.0</td>\n",
       "      <td>1.0</td>\n",
       "      <td>Argentina</td>\n",
       "      <td>0.02</td>\n",
       "    </tr>\n",
       "  </tbody>\n",
       "</table>\n",
       "</div>"
      ],
      "text/plain": [
       "   number   fifa_display_name   last_name         first_name  shirt_name  \\\n",
       "0       1       Nahuel GUZMAN      GUZMÁN     Nahuel Ignacio      GUZMÁN   \n",
       "1       2     Gabriel MERCADO     MERCADO       Gabriel Ivan     MERCADO   \n",
       "2       3  Nicolas TAGLIAFICO  TAGLIAFICO  Nicolás Alejandro  TAGLIAFICO   \n",
       "3       4    Cristian ANSALDI     ANSALDI    Cristian Daniel     ANSALDI   \n",
       "4       5        Lucas BIGLIA      BIGLIA      Lucas Rodrigo      BIGLIA   \n",
       "\n",
       "  day_of_birth position              club  height  caps  goals       team  \\\n",
       "0   10.02.1986       GK      Tigres (MEX)     192   6.0    0.0  Argentina   \n",
       "1   18.03.1987       DF  Sevilla FC (ESP)     181  21.0    3.0  Argentina   \n",
       "2   31.08.1992       DF        Ajax (NED)     169   6.0    0.0  Argentina   \n",
       "3   20.09.1986       DF      Torino (ITA)     181   5.0    1.0  Argentina   \n",
       "4   30.01.1986       MF    AC Milan (ITA)     175  58.0    1.0  Argentina   \n",
       "\n",
       "   media_gols  \n",
       "0        0.00  \n",
       "1        0.14  \n",
       "2        0.00  \n",
       "3        0.20  \n",
       "4        0.02  "
      ]
     },
     "execution_count": 10,
     "metadata": {},
     "output_type": "execute_result"
    }
   ],
   "source": [
    "#Criando uma variável\n",
    "fifa['media_gols'] = round(fifa.goals/fifa.caps,2)\n",
    "fifa.head()"
   ]
  },
  {
   "cell_type": "markdown",
   "metadata": {},
   "source": [
    "### Modificando datas\n",
    "\n",
    "Vocês devem ter reparado quando usamos a função `fifa.dtypes` que a coluna *day_of_birt* está como *object*, neste caso texto. Vamos sobrescrever essa coluna com os mesmos valores, mas como Data. Para isso usamos a função do pandas `pd.to_datetime`. "
   ]
  },
  {
   "cell_type": "code",
   "execution_count": 11,
   "metadata": {},
   "outputs": [
    {
     "data": {
      "text/html": [
       "<div>\n",
       "<style scoped>\n",
       "    .dataframe tbody tr th:only-of-type {\n",
       "        vertical-align: middle;\n",
       "    }\n",
       "\n",
       "    .dataframe tbody tr th {\n",
       "        vertical-align: top;\n",
       "    }\n",
       "\n",
       "    .dataframe thead th {\n",
       "        text-align: right;\n",
       "    }\n",
       "</style>\n",
       "<table border=\"1\" class=\"dataframe\">\n",
       "  <thead>\n",
       "    <tr style=\"text-align: right;\">\n",
       "      <th></th>\n",
       "      <th>number</th>\n",
       "      <th>fifa_display_name</th>\n",
       "      <th>last_name</th>\n",
       "      <th>first_name</th>\n",
       "      <th>shirt_name</th>\n",
       "      <th>day_of_birth</th>\n",
       "      <th>position</th>\n",
       "      <th>club</th>\n",
       "      <th>height</th>\n",
       "      <th>caps</th>\n",
       "      <th>goals</th>\n",
       "      <th>team</th>\n",
       "      <th>media_gols</th>\n",
       "    </tr>\n",
       "  </thead>\n",
       "  <tbody>\n",
       "    <tr>\n",
       "      <th>0</th>\n",
       "      <td>1</td>\n",
       "      <td>Nahuel GUZMAN</td>\n",
       "      <td>GUZMÁN</td>\n",
       "      <td>Nahuel Ignacio</td>\n",
       "      <td>GUZMÁN</td>\n",
       "      <td>1986-10-02</td>\n",
       "      <td>GK</td>\n",
       "      <td>Tigres (MEX)</td>\n",
       "      <td>192</td>\n",
       "      <td>6.0</td>\n",
       "      <td>0.0</td>\n",
       "      <td>Argentina</td>\n",
       "      <td>0.00</td>\n",
       "    </tr>\n",
       "    <tr>\n",
       "      <th>1</th>\n",
       "      <td>2</td>\n",
       "      <td>Gabriel MERCADO</td>\n",
       "      <td>MERCADO</td>\n",
       "      <td>Gabriel Ivan</td>\n",
       "      <td>MERCADO</td>\n",
       "      <td>1987-03-18</td>\n",
       "      <td>DF</td>\n",
       "      <td>Sevilla FC (ESP)</td>\n",
       "      <td>181</td>\n",
       "      <td>21.0</td>\n",
       "      <td>3.0</td>\n",
       "      <td>Argentina</td>\n",
       "      <td>0.14</td>\n",
       "    </tr>\n",
       "    <tr>\n",
       "      <th>2</th>\n",
       "      <td>3</td>\n",
       "      <td>Nicolas TAGLIAFICO</td>\n",
       "      <td>TAGLIAFICO</td>\n",
       "      <td>Nicolás Alejandro</td>\n",
       "      <td>TAGLIAFICO</td>\n",
       "      <td>1992-08-31</td>\n",
       "      <td>DF</td>\n",
       "      <td>Ajax (NED)</td>\n",
       "      <td>169</td>\n",
       "      <td>6.0</td>\n",
       "      <td>0.0</td>\n",
       "      <td>Argentina</td>\n",
       "      <td>0.00</td>\n",
       "    </tr>\n",
       "    <tr>\n",
       "      <th>3</th>\n",
       "      <td>4</td>\n",
       "      <td>Cristian ANSALDI</td>\n",
       "      <td>ANSALDI</td>\n",
       "      <td>Cristian Daniel</td>\n",
       "      <td>ANSALDI</td>\n",
       "      <td>1986-09-20</td>\n",
       "      <td>DF</td>\n",
       "      <td>Torino (ITA)</td>\n",
       "      <td>181</td>\n",
       "      <td>5.0</td>\n",
       "      <td>1.0</td>\n",
       "      <td>Argentina</td>\n",
       "      <td>0.20</td>\n",
       "    </tr>\n",
       "    <tr>\n",
       "      <th>4</th>\n",
       "      <td>5</td>\n",
       "      <td>Lucas BIGLIA</td>\n",
       "      <td>BIGLIA</td>\n",
       "      <td>Lucas Rodrigo</td>\n",
       "      <td>BIGLIA</td>\n",
       "      <td>1986-01-30</td>\n",
       "      <td>MF</td>\n",
       "      <td>AC Milan (ITA)</td>\n",
       "      <td>175</td>\n",
       "      <td>58.0</td>\n",
       "      <td>1.0</td>\n",
       "      <td>Argentina</td>\n",
       "      <td>0.02</td>\n",
       "    </tr>\n",
       "  </tbody>\n",
       "</table>\n",
       "</div>"
      ],
      "text/plain": [
       "   number   fifa_display_name   last_name         first_name  shirt_name  \\\n",
       "0       1       Nahuel GUZMAN      GUZMÁN     Nahuel Ignacio      GUZMÁN   \n",
       "1       2     Gabriel MERCADO     MERCADO       Gabriel Ivan     MERCADO   \n",
       "2       3  Nicolas TAGLIAFICO  TAGLIAFICO  Nicolás Alejandro  TAGLIAFICO   \n",
       "3       4    Cristian ANSALDI     ANSALDI    Cristian Daniel     ANSALDI   \n",
       "4       5        Lucas BIGLIA      BIGLIA      Lucas Rodrigo      BIGLIA   \n",
       "\n",
       "  day_of_birth position              club  height  caps  goals       team  \\\n",
       "0   1986-10-02       GK      Tigres (MEX)     192   6.0    0.0  Argentina   \n",
       "1   1987-03-18       DF  Sevilla FC (ESP)     181  21.0    3.0  Argentina   \n",
       "2   1992-08-31       DF        Ajax (NED)     169   6.0    0.0  Argentina   \n",
       "3   1986-09-20       DF      Torino (ITA)     181   5.0    1.0  Argentina   \n",
       "4   1986-01-30       MF    AC Milan (ITA)     175  58.0    1.0  Argentina   \n",
       "\n",
       "   media_gols  \n",
       "0        0.00  \n",
       "1        0.14  \n",
       "2        0.00  \n",
       "3        0.20  \n",
       "4        0.02  "
      ]
     },
     "execution_count": 11,
     "metadata": {},
     "output_type": "execute_result"
    }
   ],
   "source": [
    "#Sobrescrevendo variável categórica como data:\n",
    "\n",
    "fifa['day_of_birth'] = pd.to_datetime(fifa['day_of_birth']) \n",
    "\n",
    "#Consultando:\n",
    "fifa.head()"
   ]
  },
  {
   "cell_type": "markdown",
   "metadata": {},
   "source": [
    "### Renomeando variáveis\n",
    "\n",
    "Caps é um nome muito ruim. Vamos colocar um nome mais intuitívo, como *jogos_selecao*"
   ]
  },
  {
   "cell_type": "code",
   "execution_count": 12,
   "metadata": {},
   "outputs": [
    {
     "data": {
      "text/html": [
       "<div>\n",
       "<style scoped>\n",
       "    .dataframe tbody tr th:only-of-type {\n",
       "        vertical-align: middle;\n",
       "    }\n",
       "\n",
       "    .dataframe tbody tr th {\n",
       "        vertical-align: top;\n",
       "    }\n",
       "\n",
       "    .dataframe thead th {\n",
       "        text-align: right;\n",
       "    }\n",
       "</style>\n",
       "<table border=\"1\" class=\"dataframe\">\n",
       "  <thead>\n",
       "    <tr style=\"text-align: right;\">\n",
       "      <th></th>\n",
       "      <th>number</th>\n",
       "      <th>fifa_display_name</th>\n",
       "      <th>last_name</th>\n",
       "      <th>first_name</th>\n",
       "      <th>shirt_name</th>\n",
       "      <th>day_of_birth</th>\n",
       "      <th>position</th>\n",
       "      <th>club</th>\n",
       "      <th>height</th>\n",
       "      <th>jogos_selecao</th>\n",
       "      <th>goals</th>\n",
       "      <th>team</th>\n",
       "      <th>media_gols</th>\n",
       "    </tr>\n",
       "  </thead>\n",
       "  <tbody>\n",
       "    <tr>\n",
       "      <th>0</th>\n",
       "      <td>1</td>\n",
       "      <td>Nahuel GUZMAN</td>\n",
       "      <td>GUZMÁN</td>\n",
       "      <td>Nahuel Ignacio</td>\n",
       "      <td>GUZMÁN</td>\n",
       "      <td>1986-10-02</td>\n",
       "      <td>GK</td>\n",
       "      <td>Tigres (MEX)</td>\n",
       "      <td>192</td>\n",
       "      <td>6.0</td>\n",
       "      <td>0.0</td>\n",
       "      <td>Argentina</td>\n",
       "      <td>0.00</td>\n",
       "    </tr>\n",
       "    <tr>\n",
       "      <th>1</th>\n",
       "      <td>2</td>\n",
       "      <td>Gabriel MERCADO</td>\n",
       "      <td>MERCADO</td>\n",
       "      <td>Gabriel Ivan</td>\n",
       "      <td>MERCADO</td>\n",
       "      <td>1987-03-18</td>\n",
       "      <td>DF</td>\n",
       "      <td>Sevilla FC (ESP)</td>\n",
       "      <td>181</td>\n",
       "      <td>21.0</td>\n",
       "      <td>3.0</td>\n",
       "      <td>Argentina</td>\n",
       "      <td>0.14</td>\n",
       "    </tr>\n",
       "    <tr>\n",
       "      <th>2</th>\n",
       "      <td>3</td>\n",
       "      <td>Nicolas TAGLIAFICO</td>\n",
       "      <td>TAGLIAFICO</td>\n",
       "      <td>Nicolás Alejandro</td>\n",
       "      <td>TAGLIAFICO</td>\n",
       "      <td>1992-08-31</td>\n",
       "      <td>DF</td>\n",
       "      <td>Ajax (NED)</td>\n",
       "      <td>169</td>\n",
       "      <td>6.0</td>\n",
       "      <td>0.0</td>\n",
       "      <td>Argentina</td>\n",
       "      <td>0.00</td>\n",
       "    </tr>\n",
       "    <tr>\n",
       "      <th>3</th>\n",
       "      <td>4</td>\n",
       "      <td>Cristian ANSALDI</td>\n",
       "      <td>ANSALDI</td>\n",
       "      <td>Cristian Daniel</td>\n",
       "      <td>ANSALDI</td>\n",
       "      <td>1986-09-20</td>\n",
       "      <td>DF</td>\n",
       "      <td>Torino (ITA)</td>\n",
       "      <td>181</td>\n",
       "      <td>5.0</td>\n",
       "      <td>1.0</td>\n",
       "      <td>Argentina</td>\n",
       "      <td>0.20</td>\n",
       "    </tr>\n",
       "    <tr>\n",
       "      <th>4</th>\n",
       "      <td>5</td>\n",
       "      <td>Lucas BIGLIA</td>\n",
       "      <td>BIGLIA</td>\n",
       "      <td>Lucas Rodrigo</td>\n",
       "      <td>BIGLIA</td>\n",
       "      <td>1986-01-30</td>\n",
       "      <td>MF</td>\n",
       "      <td>AC Milan (ITA)</td>\n",
       "      <td>175</td>\n",
       "      <td>58.0</td>\n",
       "      <td>1.0</td>\n",
       "      <td>Argentina</td>\n",
       "      <td>0.02</td>\n",
       "    </tr>\n",
       "  </tbody>\n",
       "</table>\n",
       "</div>"
      ],
      "text/plain": [
       "   number   fifa_display_name   last_name         first_name  shirt_name  \\\n",
       "0       1       Nahuel GUZMAN      GUZMÁN     Nahuel Ignacio      GUZMÁN   \n",
       "1       2     Gabriel MERCADO     MERCADO       Gabriel Ivan     MERCADO   \n",
       "2       3  Nicolas TAGLIAFICO  TAGLIAFICO  Nicolás Alejandro  TAGLIAFICO   \n",
       "3       4    Cristian ANSALDI     ANSALDI    Cristian Daniel     ANSALDI   \n",
       "4       5        Lucas BIGLIA      BIGLIA      Lucas Rodrigo      BIGLIA   \n",
       "\n",
       "  day_of_birth position              club  height  jogos_selecao  goals  \\\n",
       "0   1986-10-02       GK      Tigres (MEX)     192            6.0    0.0   \n",
       "1   1987-03-18       DF  Sevilla FC (ESP)     181           21.0    3.0   \n",
       "2   1992-08-31       DF        Ajax (NED)     169            6.0    0.0   \n",
       "3   1986-09-20       DF      Torino (ITA)     181            5.0    1.0   \n",
       "4   1986-01-30       MF    AC Milan (ITA)     175           58.0    1.0   \n",
       "\n",
       "        team  media_gols  \n",
       "0  Argentina        0.00  \n",
       "1  Argentina        0.14  \n",
       "2  Argentina        0.00  \n",
       "3  Argentina        0.20  \n",
       "4  Argentina        0.02  "
      ]
     },
     "execution_count": 12,
     "metadata": {},
     "output_type": "execute_result"
    }
   ],
   "source": [
    "#Renomeando e atribuindo ao nosso dataframe:\n",
    "fifa = fifa.rename(columns={\"caps\": \"jogos_selecao\"})\n",
    "\n",
    "fifa.head()"
   ]
  },
  {
   "cell_type": "markdown",
   "metadata": {},
   "source": [
    "E se eu quisesse agora renomear várias colunas ao mesmo tempo?"
   ]
  },
  {
   "cell_type": "code",
   "execution_count": 13,
   "metadata": {},
   "outputs": [
    {
     "data": {
      "text/html": [
       "<div>\n",
       "<style scoped>\n",
       "    .dataframe tbody tr th:only-of-type {\n",
       "        vertical-align: middle;\n",
       "    }\n",
       "\n",
       "    .dataframe tbody tr th {\n",
       "        vertical-align: top;\n",
       "    }\n",
       "\n",
       "    .dataframe thead th {\n",
       "        text-align: right;\n",
       "    }\n",
       "</style>\n",
       "<table border=\"1\" class=\"dataframe\">\n",
       "  <thead>\n",
       "    <tr style=\"text-align: right;\">\n",
       "      <th></th>\n",
       "      <th>num_camisa</th>\n",
       "      <th>nome_fifa</th>\n",
       "      <th>last_name</th>\n",
       "      <th>first_name</th>\n",
       "      <th>shirt_name</th>\n",
       "      <th>day_of_birth</th>\n",
       "      <th>position</th>\n",
       "      <th>club</th>\n",
       "      <th>height</th>\n",
       "      <th>jogos_selecao</th>\n",
       "      <th>goals</th>\n",
       "      <th>team</th>\n",
       "      <th>media_gols</th>\n",
       "    </tr>\n",
       "  </thead>\n",
       "  <tbody>\n",
       "    <tr>\n",
       "      <th>0</th>\n",
       "      <td>1</td>\n",
       "      <td>Nahuel GUZMAN</td>\n",
       "      <td>GUZMÁN</td>\n",
       "      <td>Nahuel Ignacio</td>\n",
       "      <td>GUZMÁN</td>\n",
       "      <td>1986-10-02</td>\n",
       "      <td>GK</td>\n",
       "      <td>Tigres (MEX)</td>\n",
       "      <td>192</td>\n",
       "      <td>6.0</td>\n",
       "      <td>0.0</td>\n",
       "      <td>Argentina</td>\n",
       "      <td>0.00</td>\n",
       "    </tr>\n",
       "    <tr>\n",
       "      <th>1</th>\n",
       "      <td>2</td>\n",
       "      <td>Gabriel MERCADO</td>\n",
       "      <td>MERCADO</td>\n",
       "      <td>Gabriel Ivan</td>\n",
       "      <td>MERCADO</td>\n",
       "      <td>1987-03-18</td>\n",
       "      <td>DF</td>\n",
       "      <td>Sevilla FC (ESP)</td>\n",
       "      <td>181</td>\n",
       "      <td>21.0</td>\n",
       "      <td>3.0</td>\n",
       "      <td>Argentina</td>\n",
       "      <td>0.14</td>\n",
       "    </tr>\n",
       "    <tr>\n",
       "      <th>2</th>\n",
       "      <td>3</td>\n",
       "      <td>Nicolas TAGLIAFICO</td>\n",
       "      <td>TAGLIAFICO</td>\n",
       "      <td>Nicolás Alejandro</td>\n",
       "      <td>TAGLIAFICO</td>\n",
       "      <td>1992-08-31</td>\n",
       "      <td>DF</td>\n",
       "      <td>Ajax (NED)</td>\n",
       "      <td>169</td>\n",
       "      <td>6.0</td>\n",
       "      <td>0.0</td>\n",
       "      <td>Argentina</td>\n",
       "      <td>0.00</td>\n",
       "    </tr>\n",
       "    <tr>\n",
       "      <th>3</th>\n",
       "      <td>4</td>\n",
       "      <td>Cristian ANSALDI</td>\n",
       "      <td>ANSALDI</td>\n",
       "      <td>Cristian Daniel</td>\n",
       "      <td>ANSALDI</td>\n",
       "      <td>1986-09-20</td>\n",
       "      <td>DF</td>\n",
       "      <td>Torino (ITA)</td>\n",
       "      <td>181</td>\n",
       "      <td>5.0</td>\n",
       "      <td>1.0</td>\n",
       "      <td>Argentina</td>\n",
       "      <td>0.20</td>\n",
       "    </tr>\n",
       "    <tr>\n",
       "      <th>4</th>\n",
       "      <td>5</td>\n",
       "      <td>Lucas BIGLIA</td>\n",
       "      <td>BIGLIA</td>\n",
       "      <td>Lucas Rodrigo</td>\n",
       "      <td>BIGLIA</td>\n",
       "      <td>1986-01-30</td>\n",
       "      <td>MF</td>\n",
       "      <td>AC Milan (ITA)</td>\n",
       "      <td>175</td>\n",
       "      <td>58.0</td>\n",
       "      <td>1.0</td>\n",
       "      <td>Argentina</td>\n",
       "      <td>0.02</td>\n",
       "    </tr>\n",
       "  </tbody>\n",
       "</table>\n",
       "</div>"
      ],
      "text/plain": [
       "   num_camisa           nome_fifa   last_name         first_name  shirt_name  \\\n",
       "0           1       Nahuel GUZMAN      GUZMÁN     Nahuel Ignacio      GUZMÁN   \n",
       "1           2     Gabriel MERCADO     MERCADO       Gabriel Ivan     MERCADO   \n",
       "2           3  Nicolas TAGLIAFICO  TAGLIAFICO  Nicolás Alejandro  TAGLIAFICO   \n",
       "3           4    Cristian ANSALDI     ANSALDI    Cristian Daniel     ANSALDI   \n",
       "4           5        Lucas BIGLIA      BIGLIA      Lucas Rodrigo      BIGLIA   \n",
       "\n",
       "  day_of_birth position              club  height  jogos_selecao  goals  \\\n",
       "0   1986-10-02       GK      Tigres (MEX)     192            6.0    0.0   \n",
       "1   1987-03-18       DF  Sevilla FC (ESP)     181           21.0    3.0   \n",
       "2   1992-08-31       DF        Ajax (NED)     169            6.0    0.0   \n",
       "3   1986-09-20       DF      Torino (ITA)     181            5.0    1.0   \n",
       "4   1986-01-30       MF    AC Milan (ITA)     175           58.0    1.0   \n",
       "\n",
       "        team  media_gols  \n",
       "0  Argentina        0.00  \n",
       "1  Argentina        0.14  \n",
       "2  Argentina        0.00  \n",
       "3  Argentina        0.20  \n",
       "4  Argentina        0.02  "
      ]
     },
     "execution_count": 13,
     "metadata": {},
     "output_type": "execute_result"
    }
   ],
   "source": [
    "#Renomeando\n",
    "fifa = fifa.rename(columns={\"number\": \"num_camisa\",\n",
    "                            \"fifa_display_name\": \"nome_fifa\"})\n",
    "fifa.head()"
   ]
  },
  {
   "cell_type": "markdown",
   "metadata": {},
   "source": [
    "### Juntando dois dataframes\n",
    "\n",
    "Uma das belezas de trabalhar com dados em Python é que podemos juntar dois dataframes diferentes por meio de uma *chave* comum ou \"colar\" dois dataframes iguais um sobre o outro.\n",
    "\n",
    "#### Merge\n",
    "\n",
    "Com a função `merge` é possível juntar dois dataframes horizontalmente baseados em uma coluna (key) comum. Ele opera de maneira similar ao SQL::JOIN e ao DPLYR::left_join\n",
    "\n",
    "\n",
    "**Pergunta:** Qual é a chave entre os bancos fifa e data_countries?\n",
    "<br><br>\n",
    "Vamos criar um terceiro dataframe chamado fifa_countries, que irá conter a junção dos bancos fifa e data_countries:"
   ]
  },
  {
   "cell_type": "code",
   "execution_count": 14,
   "metadata": {},
   "outputs": [
    {
     "data": {
      "text/html": [
       "<div>\n",
       "<style scoped>\n",
       "    .dataframe tbody tr th:only-of-type {\n",
       "        vertical-align: middle;\n",
       "    }\n",
       "\n",
       "    .dataframe tbody tr th {\n",
       "        vertical-align: top;\n",
       "    }\n",
       "\n",
       "    .dataframe thead th {\n",
       "        text-align: right;\n",
       "    }\n",
       "</style>\n",
       "<table border=\"1\" class=\"dataframe\">\n",
       "  <thead>\n",
       "    <tr style=\"text-align: right;\">\n",
       "      <th></th>\n",
       "      <th>num_camisa</th>\n",
       "      <th>nome_fifa</th>\n",
       "      <th>last_name</th>\n",
       "      <th>first_name</th>\n",
       "      <th>shirt_name</th>\n",
       "      <th>day_of_birth</th>\n",
       "      <th>position</th>\n",
       "      <th>club</th>\n",
       "      <th>height</th>\n",
       "      <th>jogos_selecao</th>\n",
       "      <th>goals</th>\n",
       "      <th>team</th>\n",
       "      <th>media_gols</th>\n",
       "      <th>country</th>\n",
       "      <th>continent</th>\n",
       "    </tr>\n",
       "  </thead>\n",
       "  <tbody>\n",
       "    <tr>\n",
       "      <th>0</th>\n",
       "      <td>1</td>\n",
       "      <td>Nahuel GUZMAN</td>\n",
       "      <td>GUZMÁN</td>\n",
       "      <td>Nahuel Ignacio</td>\n",
       "      <td>GUZMÁN</td>\n",
       "      <td>1986-10-02</td>\n",
       "      <td>GK</td>\n",
       "      <td>Tigres (MEX)</td>\n",
       "      <td>192</td>\n",
       "      <td>6.0</td>\n",
       "      <td>0.0</td>\n",
       "      <td>Argentina</td>\n",
       "      <td>0.00</td>\n",
       "      <td>Argentina</td>\n",
       "      <td>South America</td>\n",
       "    </tr>\n",
       "    <tr>\n",
       "      <th>1</th>\n",
       "      <td>2</td>\n",
       "      <td>Gabriel MERCADO</td>\n",
       "      <td>MERCADO</td>\n",
       "      <td>Gabriel Ivan</td>\n",
       "      <td>MERCADO</td>\n",
       "      <td>1987-03-18</td>\n",
       "      <td>DF</td>\n",
       "      <td>Sevilla FC (ESP)</td>\n",
       "      <td>181</td>\n",
       "      <td>21.0</td>\n",
       "      <td>3.0</td>\n",
       "      <td>Argentina</td>\n",
       "      <td>0.14</td>\n",
       "      <td>Argentina</td>\n",
       "      <td>South America</td>\n",
       "    </tr>\n",
       "    <tr>\n",
       "      <th>2</th>\n",
       "      <td>3</td>\n",
       "      <td>Nicolas TAGLIAFICO</td>\n",
       "      <td>TAGLIAFICO</td>\n",
       "      <td>Nicolás Alejandro</td>\n",
       "      <td>TAGLIAFICO</td>\n",
       "      <td>1992-08-31</td>\n",
       "      <td>DF</td>\n",
       "      <td>Ajax (NED)</td>\n",
       "      <td>169</td>\n",
       "      <td>6.0</td>\n",
       "      <td>0.0</td>\n",
       "      <td>Argentina</td>\n",
       "      <td>0.00</td>\n",
       "      <td>Argentina</td>\n",
       "      <td>South America</td>\n",
       "    </tr>\n",
       "    <tr>\n",
       "      <th>3</th>\n",
       "      <td>4</td>\n",
       "      <td>Cristian ANSALDI</td>\n",
       "      <td>ANSALDI</td>\n",
       "      <td>Cristian Daniel</td>\n",
       "      <td>ANSALDI</td>\n",
       "      <td>1986-09-20</td>\n",
       "      <td>DF</td>\n",
       "      <td>Torino (ITA)</td>\n",
       "      <td>181</td>\n",
       "      <td>5.0</td>\n",
       "      <td>1.0</td>\n",
       "      <td>Argentina</td>\n",
       "      <td>0.20</td>\n",
       "      <td>Argentina</td>\n",
       "      <td>South America</td>\n",
       "    </tr>\n",
       "    <tr>\n",
       "      <th>4</th>\n",
       "      <td>5</td>\n",
       "      <td>Lucas BIGLIA</td>\n",
       "      <td>BIGLIA</td>\n",
       "      <td>Lucas Rodrigo</td>\n",
       "      <td>BIGLIA</td>\n",
       "      <td>1986-01-30</td>\n",
       "      <td>MF</td>\n",
       "      <td>AC Milan (ITA)</td>\n",
       "      <td>175</td>\n",
       "      <td>58.0</td>\n",
       "      <td>1.0</td>\n",
       "      <td>Argentina</td>\n",
       "      <td>0.02</td>\n",
       "      <td>Argentina</td>\n",
       "      <td>South America</td>\n",
       "    </tr>\n",
       "  </tbody>\n",
       "</table>\n",
       "</div>"
      ],
      "text/plain": [
       "   num_camisa           nome_fifa   last_name         first_name  shirt_name  \\\n",
       "0           1       Nahuel GUZMAN      GUZMÁN     Nahuel Ignacio      GUZMÁN   \n",
       "1           2     Gabriel MERCADO     MERCADO       Gabriel Ivan     MERCADO   \n",
       "2           3  Nicolas TAGLIAFICO  TAGLIAFICO  Nicolás Alejandro  TAGLIAFICO   \n",
       "3           4    Cristian ANSALDI     ANSALDI    Cristian Daniel     ANSALDI   \n",
       "4           5        Lucas BIGLIA      BIGLIA      Lucas Rodrigo      BIGLIA   \n",
       "\n",
       "  day_of_birth position              club  height  jogos_selecao  goals  \\\n",
       "0   1986-10-02       GK      Tigres (MEX)     192            6.0    0.0   \n",
       "1   1987-03-18       DF  Sevilla FC (ESP)     181           21.0    3.0   \n",
       "2   1992-08-31       DF        Ajax (NED)     169            6.0    0.0   \n",
       "3   1986-09-20       DF      Torino (ITA)     181            5.0    1.0   \n",
       "4   1986-01-30       MF    AC Milan (ITA)     175           58.0    1.0   \n",
       "\n",
       "        team  media_gols    country      continent  \n",
       "0  Argentina        0.00  Argentina  South America  \n",
       "1  Argentina        0.14  Argentina  South America  \n",
       "2  Argentina        0.00  Argentina  South America  \n",
       "3  Argentina        0.20  Argentina  South America  \n",
       "4  Argentina        0.02  Argentina  South America  "
      ]
     },
     "execution_count": 14,
     "metadata": {},
     "output_type": "execute_result"
    }
   ],
   "source": [
    "#Joining\n",
    "\n",
    "fifa_countries = pd.merge(fifa, data_countries, left_on=['team'], right_on=['country'])\n",
    "\n",
    "fifa_countries.head()"
   ]
  },
  {
   "cell_type": "markdown",
   "metadata": {},
   "source": [
    "Tivemos que usar os parâmetros `left_on` e `right_on` porque as colunas-chave possuem nomes diferentes nos dois bancos. A outra opção é renomear a coluna de um dos dois bancos para precisarmos apenas especificar o parâmetro `on`, como faremos a seguir:"
   ]
  },
  {
   "cell_type": "code",
   "execution_count": 15,
   "metadata": {},
   "outputs": [
    {
     "data": {
      "text/html": [
       "<div>\n",
       "<style scoped>\n",
       "    .dataframe tbody tr th:only-of-type {\n",
       "        vertical-align: middle;\n",
       "    }\n",
       "\n",
       "    .dataframe tbody tr th {\n",
       "        vertical-align: top;\n",
       "    }\n",
       "\n",
       "    .dataframe thead th {\n",
       "        text-align: right;\n",
       "    }\n",
       "</style>\n",
       "<table border=\"1\" class=\"dataframe\">\n",
       "  <thead>\n",
       "    <tr style=\"text-align: right;\">\n",
       "      <th></th>\n",
       "      <th>num_camisa</th>\n",
       "      <th>nome_fifa</th>\n",
       "      <th>last_name</th>\n",
       "      <th>first_name</th>\n",
       "      <th>shirt_name</th>\n",
       "      <th>day_of_birth</th>\n",
       "      <th>position</th>\n",
       "      <th>club</th>\n",
       "      <th>height</th>\n",
       "      <th>jogos_selecao</th>\n",
       "      <th>goals</th>\n",
       "      <th>country</th>\n",
       "      <th>media_gols</th>\n",
       "      <th>continent</th>\n",
       "    </tr>\n",
       "  </thead>\n",
       "  <tbody>\n",
       "    <tr>\n",
       "      <th>0</th>\n",
       "      <td>1</td>\n",
       "      <td>Nahuel GUZMAN</td>\n",
       "      <td>GUZMÁN</td>\n",
       "      <td>Nahuel Ignacio</td>\n",
       "      <td>GUZMÁN</td>\n",
       "      <td>1986-10-02</td>\n",
       "      <td>GK</td>\n",
       "      <td>Tigres (MEX)</td>\n",
       "      <td>192</td>\n",
       "      <td>6.0</td>\n",
       "      <td>0.0</td>\n",
       "      <td>Argentina</td>\n",
       "      <td>0.00</td>\n",
       "      <td>South America</td>\n",
       "    </tr>\n",
       "    <tr>\n",
       "      <th>1</th>\n",
       "      <td>2</td>\n",
       "      <td>Gabriel MERCADO</td>\n",
       "      <td>MERCADO</td>\n",
       "      <td>Gabriel Ivan</td>\n",
       "      <td>MERCADO</td>\n",
       "      <td>1987-03-18</td>\n",
       "      <td>DF</td>\n",
       "      <td>Sevilla FC (ESP)</td>\n",
       "      <td>181</td>\n",
       "      <td>21.0</td>\n",
       "      <td>3.0</td>\n",
       "      <td>Argentina</td>\n",
       "      <td>0.14</td>\n",
       "      <td>South America</td>\n",
       "    </tr>\n",
       "    <tr>\n",
       "      <th>2</th>\n",
       "      <td>3</td>\n",
       "      <td>Nicolas TAGLIAFICO</td>\n",
       "      <td>TAGLIAFICO</td>\n",
       "      <td>Nicolás Alejandro</td>\n",
       "      <td>TAGLIAFICO</td>\n",
       "      <td>1992-08-31</td>\n",
       "      <td>DF</td>\n",
       "      <td>Ajax (NED)</td>\n",
       "      <td>169</td>\n",
       "      <td>6.0</td>\n",
       "      <td>0.0</td>\n",
       "      <td>Argentina</td>\n",
       "      <td>0.00</td>\n",
       "      <td>South America</td>\n",
       "    </tr>\n",
       "    <tr>\n",
       "      <th>3</th>\n",
       "      <td>4</td>\n",
       "      <td>Cristian ANSALDI</td>\n",
       "      <td>ANSALDI</td>\n",
       "      <td>Cristian Daniel</td>\n",
       "      <td>ANSALDI</td>\n",
       "      <td>1986-09-20</td>\n",
       "      <td>DF</td>\n",
       "      <td>Torino (ITA)</td>\n",
       "      <td>181</td>\n",
       "      <td>5.0</td>\n",
       "      <td>1.0</td>\n",
       "      <td>Argentina</td>\n",
       "      <td>0.20</td>\n",
       "      <td>South America</td>\n",
       "    </tr>\n",
       "    <tr>\n",
       "      <th>4</th>\n",
       "      <td>5</td>\n",
       "      <td>Lucas BIGLIA</td>\n",
       "      <td>BIGLIA</td>\n",
       "      <td>Lucas Rodrigo</td>\n",
       "      <td>BIGLIA</td>\n",
       "      <td>1986-01-30</td>\n",
       "      <td>MF</td>\n",
       "      <td>AC Milan (ITA)</td>\n",
       "      <td>175</td>\n",
       "      <td>58.0</td>\n",
       "      <td>1.0</td>\n",
       "      <td>Argentina</td>\n",
       "      <td>0.02</td>\n",
       "      <td>South America</td>\n",
       "    </tr>\n",
       "  </tbody>\n",
       "</table>\n",
       "</div>"
      ],
      "text/plain": [
       "   num_camisa           nome_fifa   last_name         first_name  shirt_name  \\\n",
       "0           1       Nahuel GUZMAN      GUZMÁN     Nahuel Ignacio      GUZMÁN   \n",
       "1           2     Gabriel MERCADO     MERCADO       Gabriel Ivan     MERCADO   \n",
       "2           3  Nicolas TAGLIAFICO  TAGLIAFICO  Nicolás Alejandro  TAGLIAFICO   \n",
       "3           4    Cristian ANSALDI     ANSALDI    Cristian Daniel     ANSALDI   \n",
       "4           5        Lucas BIGLIA      BIGLIA      Lucas Rodrigo      BIGLIA   \n",
       "\n",
       "  day_of_birth position              club  height  jogos_selecao  goals  \\\n",
       "0   1986-10-02       GK      Tigres (MEX)     192            6.0    0.0   \n",
       "1   1987-03-18       DF  Sevilla FC (ESP)     181           21.0    3.0   \n",
       "2   1992-08-31       DF        Ajax (NED)     169            6.0    0.0   \n",
       "3   1986-09-20       DF      Torino (ITA)     181            5.0    1.0   \n",
       "4   1986-01-30       MF    AC Milan (ITA)     175           58.0    1.0   \n",
       "\n",
       "     country  media_gols      continent  \n",
       "0  Argentina        0.00  South America  \n",
       "1  Argentina        0.14  South America  \n",
       "2  Argentina        0.00  South America  \n",
       "3  Argentina        0.20  South America  \n",
       "4  Argentina        0.02  South America  "
      ]
     },
     "execution_count": 15,
     "metadata": {},
     "output_type": "execute_result"
    }
   ],
   "source": [
    "#Renomeando:\n",
    "fifa = fifa.rename(columns={'team': 'country'})\n",
    "\n",
    "#Juntando:\n",
    "fifa_countries = pd.merge(fifa, data_countries, on='country')\n",
    "\n",
    "fifa_countries.head()"
   ]
  },
  {
   "cell_type": "markdown",
   "metadata": {},
   "source": [
    "### Concat\n",
    "\n",
    "Para \"empilhar\" dois dataframes, vamos usar a função `concat`.\n",
    "Vamos criar um dataframe com apenas uma observação (linha), que seria um novo jogador inventado para a seleção da Argentina. Esse novo dataframe terá as mesmas colunas do dataframe fifa:"
   ]
  },
  {
   "cell_type": "code",
   "execution_count": null,
   "metadata": {},
   "outputs": [],
   "source": [
    "extra = pd.DataFrame({'num_camisa': [100],\n",
    "                      'nome_fifa': ['DALÍ'],\n",
    "                      'last_name': ['Dalí'],\n",
    "                      'first_name': ['Salvador'],\n",
    "                      'shirt_name': ['DALÍ'],\n",
    "                      'day_of_birth': ['2013-10-10'],\n",
    "                      'position': ['GK'],\n",
    "                      'club': ['Barcelona(ESP)'],\n",
    "                      'height': [100],\n",
    "                      'jogos_selecao': [0],\n",
    "                      'goals': [0],\n",
    "                      'country': ['Argentina'],\n",
    "                      'esporte': ['Futebol'],\n",
    "                      'media_gols': [0],\n",
    "                      'continent': ['South America']})\n",
    "\n",
    "extra"
   ]
  },
  {
   "cell_type": "code",
   "execution_count": null,
   "metadata": {},
   "outputs": [],
   "source": [
    "#Concatenando dois dataframes:\n",
    "\n",
    "fifa_extra = pd.concat([fifa , extra], axis = 0, sort=False)\n"
   ]
  },
  {
   "cell_type": "markdown",
   "metadata": {},
   "source": [
    "O parâmetro `axis = 0` indica que os dataframes serão agrupados verticalmente, e o parâmetro `sort = FALSE` estabelece que não haverá alteração na disposição das colunas"
   ]
  },
  {
   "cell_type": "code",
   "execution_count": null,
   "metadata": {
    "scrolled": true
   },
   "outputs": [],
   "source": [
    "#Procurando os jogadores do time da Argentina:\n",
    "\n",
    "fifa_extra.query('country == \"Argentina\"')"
   ]
  },
  {
   "cell_type": "markdown",
   "metadata": {},
   "source": [
    "Nosso novo jogador está aí ;)\n",
    "\n",
    "**Pergunta:** Que outra consulta eu poderia ter feito para saber se o meu jogador estava ou não aí?"
   ]
  },
  {
   "cell_type": "markdown",
   "metadata": {},
   "source": [
    "### Realizando operações com agrupamentos\n",
    "\n",
    "Agora que nós já aprendemos analisar, processar e fundir diferentes bancos de dados restam apenas as operações seguidas de  agrupamentos.\n",
    "\n",
    "**Quando nós usamos agrupamentos:** Normalmente quando queremos informações sobre *grupos* de dentro do meu dataframe. \n",
    "\n",
    "Vamos supor que eu esteja muito interessada em comparar estatísticas entre jogadores altos e baixos e vamos estabelecer que um jogador alto é aquele que tem mais de 1,80m. Vamos realizar essas análises com a determinação dos grupos \"alto\" e \"baixo. Para isso, vamos primeiro criar uma nova coluna *boolean* (true e false), que me dirá se determinado jogador tem mais de 1,80m:"
   ]
  },
  {
   "cell_type": "code",
   "execution_count": 16,
   "metadata": {
    "scrolled": true
   },
   "outputs": [
    {
     "data": {
      "text/html": [
       "<div>\n",
       "<style scoped>\n",
       "    .dataframe tbody tr th:only-of-type {\n",
       "        vertical-align: middle;\n",
       "    }\n",
       "\n",
       "    .dataframe tbody tr th {\n",
       "        vertical-align: top;\n",
       "    }\n",
       "\n",
       "    .dataframe thead th {\n",
       "        text-align: right;\n",
       "    }\n",
       "</style>\n",
       "<table border=\"1\" class=\"dataframe\">\n",
       "  <thead>\n",
       "    <tr style=\"text-align: right;\">\n",
       "      <th></th>\n",
       "      <th>num_camisa</th>\n",
       "      <th>nome_fifa</th>\n",
       "      <th>last_name</th>\n",
       "      <th>first_name</th>\n",
       "      <th>shirt_name</th>\n",
       "      <th>day_of_birth</th>\n",
       "      <th>position</th>\n",
       "      <th>club</th>\n",
       "      <th>height</th>\n",
       "      <th>jogos_selecao</th>\n",
       "      <th>goals</th>\n",
       "      <th>country</th>\n",
       "      <th>media_gols</th>\n",
       "      <th>continent</th>\n",
       "      <th>alto</th>\n",
       "    </tr>\n",
       "  </thead>\n",
       "  <tbody>\n",
       "    <tr>\n",
       "      <th>0</th>\n",
       "      <td>1</td>\n",
       "      <td>Nahuel GUZMAN</td>\n",
       "      <td>GUZMÁN</td>\n",
       "      <td>Nahuel Ignacio</td>\n",
       "      <td>GUZMÁN</td>\n",
       "      <td>1986-10-02</td>\n",
       "      <td>GK</td>\n",
       "      <td>Tigres (MEX)</td>\n",
       "      <td>192</td>\n",
       "      <td>6.0</td>\n",
       "      <td>0.0</td>\n",
       "      <td>Argentina</td>\n",
       "      <td>0.00</td>\n",
       "      <td>South America</td>\n",
       "      <td>True</td>\n",
       "    </tr>\n",
       "    <tr>\n",
       "      <th>1</th>\n",
       "      <td>2</td>\n",
       "      <td>Gabriel MERCADO</td>\n",
       "      <td>MERCADO</td>\n",
       "      <td>Gabriel Ivan</td>\n",
       "      <td>MERCADO</td>\n",
       "      <td>1987-03-18</td>\n",
       "      <td>DF</td>\n",
       "      <td>Sevilla FC (ESP)</td>\n",
       "      <td>181</td>\n",
       "      <td>21.0</td>\n",
       "      <td>3.0</td>\n",
       "      <td>Argentina</td>\n",
       "      <td>0.14</td>\n",
       "      <td>South America</td>\n",
       "      <td>True</td>\n",
       "    </tr>\n",
       "    <tr>\n",
       "      <th>2</th>\n",
       "      <td>3</td>\n",
       "      <td>Nicolas TAGLIAFICO</td>\n",
       "      <td>TAGLIAFICO</td>\n",
       "      <td>Nicolás Alejandro</td>\n",
       "      <td>TAGLIAFICO</td>\n",
       "      <td>1992-08-31</td>\n",
       "      <td>DF</td>\n",
       "      <td>Ajax (NED)</td>\n",
       "      <td>169</td>\n",
       "      <td>6.0</td>\n",
       "      <td>0.0</td>\n",
       "      <td>Argentina</td>\n",
       "      <td>0.00</td>\n",
       "      <td>South America</td>\n",
       "      <td>False</td>\n",
       "    </tr>\n",
       "    <tr>\n",
       "      <th>3</th>\n",
       "      <td>4</td>\n",
       "      <td>Cristian ANSALDI</td>\n",
       "      <td>ANSALDI</td>\n",
       "      <td>Cristian Daniel</td>\n",
       "      <td>ANSALDI</td>\n",
       "      <td>1986-09-20</td>\n",
       "      <td>DF</td>\n",
       "      <td>Torino (ITA)</td>\n",
       "      <td>181</td>\n",
       "      <td>5.0</td>\n",
       "      <td>1.0</td>\n",
       "      <td>Argentina</td>\n",
       "      <td>0.20</td>\n",
       "      <td>South America</td>\n",
       "      <td>True</td>\n",
       "    </tr>\n",
       "    <tr>\n",
       "      <th>4</th>\n",
       "      <td>5</td>\n",
       "      <td>Lucas BIGLIA</td>\n",
       "      <td>BIGLIA</td>\n",
       "      <td>Lucas Rodrigo</td>\n",
       "      <td>BIGLIA</td>\n",
       "      <td>1986-01-30</td>\n",
       "      <td>MF</td>\n",
       "      <td>AC Milan (ITA)</td>\n",
       "      <td>175</td>\n",
       "      <td>58.0</td>\n",
       "      <td>1.0</td>\n",
       "      <td>Argentina</td>\n",
       "      <td>0.02</td>\n",
       "      <td>South America</td>\n",
       "      <td>False</td>\n",
       "    </tr>\n",
       "  </tbody>\n",
       "</table>\n",
       "</div>"
      ],
      "text/plain": [
       "   num_camisa           nome_fifa   last_name         first_name  shirt_name  \\\n",
       "0           1       Nahuel GUZMAN      GUZMÁN     Nahuel Ignacio      GUZMÁN   \n",
       "1           2     Gabriel MERCADO     MERCADO       Gabriel Ivan     MERCADO   \n",
       "2           3  Nicolas TAGLIAFICO  TAGLIAFICO  Nicolás Alejandro  TAGLIAFICO   \n",
       "3           4    Cristian ANSALDI     ANSALDI    Cristian Daniel     ANSALDI   \n",
       "4           5        Lucas BIGLIA      BIGLIA      Lucas Rodrigo      BIGLIA   \n",
       "\n",
       "  day_of_birth position              club  height  jogos_selecao  goals  \\\n",
       "0   1986-10-02       GK      Tigres (MEX)     192            6.0    0.0   \n",
       "1   1987-03-18       DF  Sevilla FC (ESP)     181           21.0    3.0   \n",
       "2   1992-08-31       DF        Ajax (NED)     169            6.0    0.0   \n",
       "3   1986-09-20       DF      Torino (ITA)     181            5.0    1.0   \n",
       "4   1986-01-30       MF    AC Milan (ITA)     175           58.0    1.0   \n",
       "\n",
       "     country  media_gols      continent   alto  \n",
       "0  Argentina        0.00  South America   True  \n",
       "1  Argentina        0.14  South America   True  \n",
       "2  Argentina        0.00  South America  False  \n",
       "3  Argentina        0.20  South America   True  \n",
       "4  Argentina        0.02  South America  False  "
      ]
     },
     "execution_count": 16,
     "metadata": {},
     "output_type": "execute_result"
    }
   ],
   "source": [
    "#Criando nossa coluna boolean:\n",
    "fifa_countries['alto'] = fifa_countries.height > 180\n",
    "\n",
    "#Verificando:\n",
    "fifa_countries.head()"
   ]
  },
  {
   "cell_type": "markdown",
   "metadata": {},
   "source": [
    "Vamos contar quandos jogadores nós temos acima e abaixo de 1,80m:"
   ]
  },
  {
   "cell_type": "code",
   "execution_count": null,
   "metadata": {},
   "outputs": [],
   "source": [
    "#Agrupe o fifa_countries de acordo com a variável 'alto' e me retorne a contagem de gols para cada grupo\n",
    "fifa_countries.groupby('alto')['alto'].count()"
   ]
  },
  {
   "cell_type": "markdown",
   "metadata": {},
   "source": [
    "Agora vamos verificar qual é a média de gols para jogadores maiores e menores que 180. Para isso, vamos usar o `groupby`e depois `sum`:"
   ]
  },
  {
   "cell_type": "code",
   "execution_count": null,
   "metadata": {},
   "outputs": [],
   "source": [
    "#Agrupe o fifa_countries de acordo com a variável 'alto' e me retorne a média de gols para cada grupo\n",
    "fifa_countries.groupby('alto')['goals'].median()"
   ]
  },
  {
   "cell_type": "markdown",
   "metadata": {},
   "source": [
    "Agora eu vou agrupar por *continent* e *alto*:"
   ]
  },
  {
   "cell_type": "code",
   "execution_count": null,
   "metadata": {},
   "outputs": [],
   "source": [
    "#Agrupe o fifa_countries de acordo com as combinações das variáveis 'continent' e 'alto' e me retorne \n",
    "#a média de gols para cada grupo\n",
    "fifa_countries.groupby(['continent','alto'])['goals'].median()"
   ]
  },
  {
   "cell_type": "markdown",
   "metadata": {},
   "source": [
    "Agora além de agrupar por *continent* e *alto* eu vou verificar a média de gols e o total de gols feitos. Para isso vamos usar o `agg`:"
   ]
  },
  {
   "cell_type": "code",
   "execution_count": null,
   "metadata": {},
   "outputs": [],
   "source": [
    "#Agrupe o fifa_countries de acordo com as combinações das varaveis 'continent' e 'alto' e me \n",
    "#retorne a média e a soma da variável 'goals' para cada grupo\n",
    "fifa_countries.groupby(['continent','alto']).agg({'goals': ['median', 'sum']})"
   ]
  },
  {
   "cell_type": "markdown",
   "metadata": {},
   "source": [
    "Agora em um nível mais hard (nível 5 na escala CRÉU) eu quero saber, além da média e do total de gols, quantos jogadores acima e abaixo de 1,80m eu tenho em cada continente:"
   ]
  },
  {
   "cell_type": "code",
   "execution_count": null,
   "metadata": {},
   "outputs": [],
   "source": [
    "#Agrupe o fifa_countries de acordo com as combinações das varaveis 'continent' e 'alto' e me \n",
    "#retorne a contagem da variável 'alto' para cada grupo e a média e a soma da variável 'goals' para cada grupo\n",
    "fifa_countries.groupby(['continent','alto']).agg({'alto':['count'],\n",
    "                                                  'goals': ['median', 'sum']})"
   ]
  },
  {
   "cell_type": "markdown",
   "metadata": {},
   "source": [
    "Agora, vamos salvar essa última operação em um novo dataframe e exportar esse dataframe como um .csv e um .excel:"
   ]
  },
  {
   "cell_type": "code",
   "execution_count": null,
   "metadata": {},
   "outputs": [],
   "source": [
    "#Armazenando o objeto:\n",
    "final = fifa_countries.groupby(['continent','alto']).agg({'alto':['count'],\n",
    "                                                  'goals': ['median', 'sum']})\n",
    "\n",
    "#Consultando:\n",
    "final.head()"
   ]
  },
  {
   "cell_type": "markdown",
   "metadata": {},
   "source": [
    "Especificando o diretório onde vamos salvar nosso arquivo (sem essa etapa, ele vai salvar na mesma pasta onde está este notebook).\n",
    "\n",
    "Lembrando: barra para direita: \"/\" ou duas barras para esquerda: \"\\\\\""
   ]
  },
  {
   "cell_type": "code",
   "execution_count": null,
   "metadata": {},
   "outputs": [],
   "source": [
    "#Diretório:\n",
    "import os\n",
    "os.chdir(\"C:/Users/coliv/Documents/Python Scripts/tera_intro_python/docs\")\n",
    "\n",
    "#Conferindo:\n",
    "os.getcwd()"
   ]
  },
  {
   "cell_type": "code",
   "execution_count": null,
   "metadata": {},
   "outputs": [],
   "source": [
    "#Exportando em CSV\n",
    "final.to_csv(r'final.csv')\n",
    "\n",
    "#Exportando em Excel\n",
    "final.to_excel(r'final.xlsx')"
   ]
  },
  {
   "cell_type": "markdown",
   "metadata": {},
   "source": [
    "OBS: As vezes ocorre um erro na exportação em excel, dizendo que um determinado módulo não foi encontrado . Eu resolvi o meu problema executando `pip install xlsxwriter` no prompt\n",
    "<br><br>\n",
    "\n",
    "### Extra groupby + loc\n",
    "\n",
    "A maioria das nossas operações de agrupamentos retornaram apenas os valores das operações. E se quisessemos que usar uma operação de agrupamento seguida de uma filtragem?\n",
    "\n",
    "Quem são os jogadores mais altos de cada time?"
   ]
  },
  {
   "cell_type": "code",
   "execution_count": 17,
   "metadata": {},
   "outputs": [
    {
     "data": {
      "text/html": [
       "<div>\n",
       "<style scoped>\n",
       "    .dataframe tbody tr th:only-of-type {\n",
       "        vertical-align: middle;\n",
       "    }\n",
       "\n",
       "    .dataframe tbody tr th {\n",
       "        vertical-align: top;\n",
       "    }\n",
       "\n",
       "    .dataframe thead th {\n",
       "        text-align: right;\n",
       "    }\n",
       "</style>\n",
       "<table border=\"1\" class=\"dataframe\">\n",
       "  <thead>\n",
       "    <tr style=\"text-align: right;\">\n",
       "      <th></th>\n",
       "      <th>num_camisa</th>\n",
       "      <th>nome_fifa</th>\n",
       "      <th>last_name</th>\n",
       "      <th>first_name</th>\n",
       "      <th>shirt_name</th>\n",
       "      <th>day_of_birth</th>\n",
       "      <th>position</th>\n",
       "      <th>club</th>\n",
       "      <th>height</th>\n",
       "      <th>jogos_selecao</th>\n",
       "      <th>goals</th>\n",
       "      <th>country</th>\n",
       "      <th>media_gols</th>\n",
       "      <th>continent</th>\n",
       "      <th>alto</th>\n",
       "    </tr>\n",
       "  </thead>\n",
       "  <tbody>\n",
       "    <tr>\n",
       "      <th>5</th>\n",
       "      <td>6</td>\n",
       "      <td>Federico FAZIO</td>\n",
       "      <td>FAZIO</td>\n",
       "      <td>Federico Julián</td>\n",
       "      <td>FAZIO</td>\n",
       "      <td>1987-03-17</td>\n",
       "      <td>DF</td>\n",
       "      <td>AS Roma (ITA)</td>\n",
       "      <td>199</td>\n",
       "      <td>9.0</td>\n",
       "      <td>1.0</td>\n",
       "      <td>Argentina</td>\n",
       "      <td>0.11</td>\n",
       "      <td>South America</td>\n",
       "      <td>True</td>\n",
       "    </tr>\n",
       "    <tr>\n",
       "      <th>34</th>\n",
       "      <td>12</td>\n",
       "      <td>Brad JONES</td>\n",
       "      <td>JONES</td>\n",
       "      <td>Bradley Scott</td>\n",
       "      <td>JONES</td>\n",
       "      <td>1982-03-19</td>\n",
       "      <td>GK</td>\n",
       "      <td>Feyenoord (NED)</td>\n",
       "      <td>193</td>\n",
       "      <td>6.0</td>\n",
       "      <td>0.0</td>\n",
       "      <td>Australia</td>\n",
       "      <td>0.00</td>\n",
       "      <td>Oceania</td>\n",
       "      <td>True</td>\n",
       "    </tr>\n",
       "    <tr>\n",
       "      <th>46</th>\n",
       "      <td>1</td>\n",
       "      <td>Thibaut COURTOIS</td>\n",
       "      <td>COURTOIS</td>\n",
       "      <td>Thibaut Nicolas</td>\n",
       "      <td>COURTOIS</td>\n",
       "      <td>1992-11-05</td>\n",
       "      <td>GK</td>\n",
       "      <td>Chelsea (ENG)</td>\n",
       "      <td>199</td>\n",
       "      <td>59.0</td>\n",
       "      <td>0.0</td>\n",
       "      <td>Belgium</td>\n",
       "      <td>0.00</td>\n",
       "      <td>Europe</td>\n",
       "      <td>True</td>\n",
       "    </tr>\n",
       "    <tr>\n",
       "      <th>84</th>\n",
       "      <td>16</td>\n",
       "      <td>CASSIO</td>\n",
       "      <td>RAMOS</td>\n",
       "      <td>Cassio</td>\n",
       "      <td>CASSIO</td>\n",
       "      <td>1987-06-06</td>\n",
       "      <td>GK</td>\n",
       "      <td>SC Corinthians (BRA)</td>\n",
       "      <td>195</td>\n",
       "      <td>1.0</td>\n",
       "      <td>0.0</td>\n",
       "      <td>Brazil</td>\n",
       "      <td>0.00</td>\n",
       "      <td>South America</td>\n",
       "      <td>True</td>\n",
       "    </tr>\n",
       "    <tr>\n",
       "      <th>104</th>\n",
       "      <td>13</td>\n",
       "      <td>Yerry MINA</td>\n",
       "      <td>MINA GONZALEZ</td>\n",
       "      <td>Yerry Fernando</td>\n",
       "      <td>Y. MINA</td>\n",
       "      <td>1994-09-23</td>\n",
       "      <td>DF</td>\n",
       "      <td>FC Barcelona (ESP)</td>\n",
       "      <td>194</td>\n",
       "      <td>12.0</td>\n",
       "      <td>3.0</td>\n",
       "      <td>Colombia</td>\n",
       "      <td>0.25</td>\n",
       "      <td>South America</td>\n",
       "      <td>True</td>\n",
       "    </tr>\n",
       "  </tbody>\n",
       "</table>\n",
       "</div>"
      ],
      "text/plain": [
       "     num_camisa         nome_fifa      last_name       first_name shirt_name  \\\n",
       "5             6    Federico FAZIO          FAZIO  Federico Julián      FAZIO   \n",
       "34           12        Brad JONES          JONES    Bradley Scott      JONES   \n",
       "46            1  Thibaut COURTOIS       COURTOIS  Thibaut Nicolas   COURTOIS   \n",
       "84           16            CASSIO          RAMOS           Cassio     CASSIO   \n",
       "104          13        Yerry MINA  MINA GONZALEZ   Yerry Fernando    Y. MINA   \n",
       "\n",
       "    day_of_birth position                  club  height  jogos_selecao  goals  \\\n",
       "5     1987-03-17       DF         AS Roma (ITA)     199            9.0    1.0   \n",
       "34    1982-03-19       GK       Feyenoord (NED)     193            6.0    0.0   \n",
       "46    1992-11-05       GK         Chelsea (ENG)     199           59.0    0.0   \n",
       "84    1987-06-06       GK  SC Corinthians (BRA)     195            1.0    0.0   \n",
       "104   1994-09-23       DF    FC Barcelona (ESP)     194           12.0    3.0   \n",
       "\n",
       "       country  media_gols      continent  alto  \n",
       "5    Argentina        0.11  South America  True  \n",
       "34   Australia        0.00        Oceania  True  \n",
       "46     Belgium        0.00         Europe  True  \n",
       "84      Brazil        0.00  South America  True  \n",
       "104   Colombia        0.25  South America  True  "
      ]
     },
     "execution_count": 17,
     "metadata": {},
     "output_type": "execute_result"
    }
   ],
   "source": [
    "# Atribuia ao objeto mais_altos // localize no banco fifa_countries , depois de agrupart por 'country' , \n",
    "# os index máximos de cada 'height'\n",
    "\n",
    "mais_altos = fifa_countries.loc[fifa_countries.groupby('country')['height'].idxmax()]\n",
    "\n",
    "mais_altos.head()"
   ]
  },
  {
   "cell_type": "markdown",
   "metadata": {},
   "source": [
    "Nós utilizamos o parâmetro `idxmax()` no fim da operação porque queremos que o `loc` encontre o *index* associado a cada valor máximo de 'height'."
   ]
  },
  {
   "cell_type": "markdown",
   "metadata": {},
   "source": [
    "## Exercício:\n",
    "\n",
    "Agora que nóspassamos por todas essas etapas vamos fazer um exercício para fixar os conteúdos?\n",
    "\n",
    "<br> Abra um novo notebook para os exercícios e realize as seguintes operações:\n",
    "\n",
    "1. Importe o arquivo fifa2018 e o arquivo data_countries como fizemos em aula;\n",
    "2. Verifique se há missings, duplicatas e substitua os missings por 0, quando for necessário;\n",
    "3. Junte os dois dataframes fifa e data_countries baseados em uma chave comum\n",
    "    - lembre-se que a chave tem que ser a mesma dos dois lados!\n",
    "    \n",
    "4. Responda (com prints de operações ou de dataframes) as seguintes perguntas:\n",
    "   - a) Qual é média de altura dos jogadores?\n",
    "   - b) Quantos jogadores têm mais de 30 anos?\n",
    "   - c) Quem são os goleiros (GK) de cada time?\n",
    "   - d) Quais são os jogadores com o maior número de gols de cada time?\n",
    "   \n",
    "As respostas estão no [gabarito](https://voigtjessica.github.io/tera_intro_python/gabarito)\n"
   ]
  }
 ],
 "metadata": {
  "kernelspec": {
   "display_name": "Python 3",
   "language": "python",
   "name": "python3"
  },
  "language_info": {
   "codemirror_mode": {
    "name": "ipython",
    "version": 3
   },
   "file_extension": ".py",
   "mimetype": "text/x-python",
   "name": "python",
   "nbconvert_exporter": "python",
   "pygments_lexer": "ipython3",
   "version": "3.7.3"
  }
 },
 "nbformat": 4,
 "nbformat_minor": 2
}
